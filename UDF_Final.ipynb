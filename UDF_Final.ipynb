{
  "nbformat": 4,
  "nbformat_minor": 0,
  "metadata": {
    "colab": {
      "provenance": [],
      "include_colab_link": true
    },
    "kernelspec": {
      "name": "python3",
      "display_name": "Python 3"
    },
    "language_info": {
      "name": "python"
    }
  },
  "cells": [
    {
      "cell_type": "markdown",
      "metadata": {
        "id": "view-in-github",
        "colab_type": "text"
      },
      "source": [
        "<a href=\"https://colab.research.google.com/github/kvanarsd/ASTR-19-Final/blob/main/UDF_Final.ipynb\" target=\"_parent\"><img src=\"https://colab.research.google.com/assets/colab-badge.svg\" alt=\"Open In Colab\"/></a>"
      ]
    },
    {
      "cell_type": "code",
      "execution_count": null,
      "metadata": {
        "id": "QOuPmZjsvXFH"
      },
      "outputs": [],
      "source": [
        "! pip install sep"
      ]
    },
    {
      "cell_type": "code",
      "source": [
        "from google.colab import drive\n",
        "drive.mount('/content/drive')"
      ],
      "metadata": {
        "id": "HfyCVGHWvlIV"
      },
      "execution_count": null,
      "outputs": []
    },
    {
      "cell_type": "code",
      "source": [
        "import numpy as np\n",
        "import sep"
      ],
      "metadata": {
        "id": "zuf4mtMfvmWR"
      },
      "execution_count": null,
      "outputs": []
    },
    {
      "cell_type": "code",
      "source": [
        "from astropy.io import fits\n",
        "import matplotlib.pyplot as plt\n",
        "from matplotlib import rcParams\n",
        "\n",
        "%matplotlib inline\n",
        "\n",
        "rcParams['figure.figsize'] = [10., 8.]"
      ],
      "metadata": {
        "id": "ftg8-qp4vmin"
      },
      "execution_count": null,
      "outputs": []
    },
    {
      "cell_type": "code",
      "source": [
        "# read image into standard 2-d numpy array\n",
        "path = \"/content/drive/MyDrive/ASTR19_Final/hlsp_hudf12_hst_wfc3ir_udfmain_f105w_v1.0_drz.fits\"\n",
        "# open file\n",
        "image = fits.open(path)\n",
        "# turn image into data array\n",
        "data = image[0].data\n",
        "data = data.byteswap().newbyteorder()"
      ],
      "metadata": {
        "id": "KIiFyufmvrEP"
      },
      "execution_count": null,
      "outputs": []
    },
    {
      "cell_type": "code",
      "source": [
        "# show the image\n",
        "m, s = np.mean(data), np.std(data)\n",
        "plt.imshow(data, interpolation='nearest', cmap='gray', vmin=m-s, vmax=m+s, origin='lower')\n",
        "plt.colorbar();\n",
        "plt.savefig(\"Img.png\")"
      ],
      "metadata": {
        "id": "h65QKe5Uvwjb"
      },
      "execution_count": null,
      "outputs": []
    },
    {
      "cell_type": "code",
      "source": [
        "# measure a spatially varying background on the image\n",
        "# background subtraction\n",
        "bkg = sep.Background(data)"
      ],
      "metadata": {
        "id": "1_gG_usav1w9"
      },
      "execution_count": null,
      "outputs": []
    },
    {
      "cell_type": "code",
      "source": [
        "# get a \"global\" mean and noise of the image background:\n",
        "print(bkg.globalback)\n",
        "print(bkg.globalrms)"
      ],
      "metadata": {
        "id": "jJYNViN0v29f"
      },
      "execution_count": null,
      "outputs": []
    },
    {
      "cell_type": "code",
      "source": [
        "# evaluate background as 2-d array, same size as original image\n",
        "bkg_image = bkg.back()"
      ],
      "metadata": {
        "id": "2_4-Rm6rwGPC"
      },
      "execution_count": null,
      "outputs": []
    },
    {
      "cell_type": "code",
      "source": [
        "# show the background\n",
        "plt.imshow(bkg_image, interpolation='nearest', cmap='gray', origin='lower')\n",
        "plt.colorbar();\n",
        "plt.savefig(\"Background.png\")"
      ],
      "metadata": {
        "id": "aNJIJh19wHQA"
      },
      "execution_count": null,
      "outputs": []
    },
    {
      "cell_type": "code",
      "source": [
        "# evaluate the background noise as 2-d array, same size as original image\n",
        "bkg_rms = bkg.rms()"
      ],
      "metadata": {
        "id": "4bpa1XxMwI8l"
      },
      "execution_count": null,
      "outputs": []
    },
    {
      "cell_type": "code",
      "source": [
        "# show the background noise\n",
        "plt.imshow(bkg_rms, interpolation='nearest', cmap='gray', origin='lower')\n",
        "plt.colorbar();\n",
        "plt.savefig(\"BackgroundNoise.png\")"
      ],
      "metadata": {
        "id": "Pe06LiQgwJ9k"
      },
      "execution_count": null,
      "outputs": []
    },
    {
      "cell_type": "code",
      "source": [
        "# subtract the background\n",
        "data_sub = data - bkg"
      ],
      "metadata": {
        "id": "ZB2vIE9KwMSQ"
      },
      "execution_count": null,
      "outputs": []
    },
    {
      "cell_type": "code",
      "source": [
        "# detect objects\n",
        "objects = sep.extract(data_sub, 1.5, err=bkg.globalrms)"
      ],
      "metadata": {
        "id": "1mSSP9ZJwN5L"
      },
      "execution_count": null,
      "outputs": []
    },
    {
      "cell_type": "code",
      "source": [
        "# how many objects were detected\n",
        "len(objects)"
      ],
      "metadata": {
        "id": "wkTWq2EkwOHV"
      },
      "execution_count": null,
      "outputs": []
    },
    {
      "cell_type": "markdown",
      "source": [
        "Found 8643 sources"
      ],
      "metadata": {
        "id": "e1ElaC0-JgKY"
      }
    },
    {
      "cell_type": "code",
      "source": [
        "# plotting all the objects found\n",
        "from matplotlib.patches import Ellipse\n",
        "\n",
        "# plot background-subtracted image\n",
        "fig, ax = plt.subplots()\n",
        "m, s = np.mean(data_sub), np.std(data_sub)\n",
        "im = ax.imshow(data_sub, interpolation='nearest', cmap='gray',\n",
        "               vmin=m-s, vmax=m+s, origin='lower')\n",
        "\n",
        "# plot an ellipse for each object\n",
        "for i in range(len(objects)):\n",
        "    e = Ellipse(xy=(objects['x'][i], objects['y'][i]),\n",
        "                width=6*objects['a'][i],\n",
        "                height=6*objects['b'][i],\n",
        "                angle=objects['theta'][i] * 180. / np.pi)\n",
        "    e.set_facecolor('none')\n",
        "    e.set_edgecolor('red')\n",
        "    ax.add_artist(e)\n",
        "\n",
        "plt.savefig(\"CircledData.png\")"
      ],
      "metadata": {
        "id": "TFW-DctMwO7j"
      },
      "execution_count": null,
      "outputs": []
    },
    {
      "cell_type": "code",
      "source": [
        "# available fields\n",
        "objects.dtype.names"
      ],
      "metadata": {
        "id": "R7OyDCx9wQFq"
      },
      "execution_count": null,
      "outputs": []
    },
    {
      "cell_type": "code",
      "source": [
        "# perform circular aperture photometry with 3 px radius\n",
        "# how bright a source is\n",
        "flux, fluxerr, flag = sep.sum_circle(data_sub, objects['x'], objects['y'],\n",
        "                                     3.0, err=bkg.globalrms, gain=1.0)"
      ],
      "metadata": {
        "id": "oXMxd7pAwUWm"
      },
      "execution_count": null,
      "outputs": []
    },
    {
      "cell_type": "code",
      "source": [
        "# show the first 10 objects results:\n",
        "for i in range(10):\n",
        "    print(\"object {:d}: flux = {:f} +/- {:f}\".format(i, flux[i], fluxerr[i]))"
      ],
      "metadata": {
        "id": "Q8o4-hcSwVrb"
      },
      "execution_count": null,
      "outputs": []
    },
    {
      "cell_type": "code",
      "source": [
        "def histogram_plot(\n",
        "    flag_save=True, #save the figure?\n",
        "    xlabel='Bins', #x-axis label\n",
        "    ylabel='Frequency', #y-axis label\n",
        "    lcolor='red', #line color\n",
        "    fs=14, #font size\n",
        "    fname='FluxHistogram.png'):\n",
        "    hist, bins = plt.subplots(1,1,figsize=(4,9))\n",
        "\n",
        "    plt.hist(flux,facecolor=lcolor,bins=10000,edgecolor='black',alpha=.5)\n",
        "    plt.xscale('symlog')\n",
        "    #plt.xscale('log')\n",
        "\n",
        "    bins.set_xlabel(xlabel,fontsize=fs)\n",
        "    bins.set_ylabel(ylabel,fontsize=fs)\n",
        "\n",
        "    if(flag_save):\n",
        "        plt.savefig(fname,bbox_inches='tight',dpi=400)\n",
        "\n",
        "    plt.show()\n",
        "\n",
        "histogram_plot()"
      ],
      "metadata": {
        "id": "ue2CmjZswYJd"
      },
      "execution_count": null,
      "outputs": []
    },
    {
      "cell_type": "code",
      "source": [
        "# median\n",
        "np.median(flux)"
      ],
      "metadata": {
        "id": "exMuFQ6tQb_0"
      },
      "execution_count": null,
      "outputs": []
    },
    {
      "cell_type": "code",
      "source": [
        "# mean\n",
        "mean = np.mean(flux)\n",
        "\n",
        "# standard deviation\n",
        "std = np.std(flux)"
      ],
      "metadata": {
        "id": "tS9SHe0uQdlU"
      },
      "execution_count": null,
      "outputs": []
    },
    {
      "cell_type": "code",
      "source": [
        "# outier\n",
        "outlier = np.max(flux)\n",
        "\n",
        "# the largest outlier is:\n",
        "(outlier - mean) / std\n",
        "# standard deviations away from the mean"
      ],
      "metadata": {
        "id": "w9iO8pjVQhj_"
      },
      "execution_count": null,
      "outputs": []
    },
    {
      "cell_type": "markdown",
      "source": [
        "The largest outlier is 87.31249046216263 standard deviations away from the mean"
      ],
      "metadata": {
        "id": "MzlncWC9RdO8"
      }
    },
    {
      "cell_type": "code",
      "source": [
        "# read image into standard 2-d numpy array\n",
        "path125 = \"/content/drive/MyDrive/ASTR19_Final/hlsp_hudf12_hst_wfc3ir_udfmain_f125w_v1.0_drz.fits\"\n",
        "path160 = \"/content/drive/MyDrive/ASTR19_Final/hlsp_hudf12_hst_wfc3ir_udfmain_f160w_v1.0_drz.fits\"\n",
        "# open file\n",
        "image125 = fits.open(path125)\n",
        "image160 = fits.open(path160)\n",
        "\n",
        "# turn image into data array\n",
        "data = image[0].data\n",
        "data125 = image125[0].data\n",
        "data160 = image160[0].data"
      ],
      "metadata": {
        "id": "Rq9TuTBMSKgG"
      },
      "execution_count": null,
      "outputs": []
    },
    {
      "cell_type": "code",
      "source": [
        "def rescale_image(data):\n",
        "  pdata_tmp = data.copy()\n",
        "  m = np.nanmean(pdata_tmp)\n",
        "  vplmin = m/2.\n",
        "  vpmin = np.log10(vplmin)\n",
        "  vpmax = np.log10(m * 100.)\n",
        "  pdata_tmp[pdata_tmp<vplmin] = vplmin\n",
        "  pdata_tmp = np.log10(pdata_tmp)\n",
        "  return pdata_tmp,vpmin, vpmax"
      ],
      "metadata": {
        "id": "rBhSZx6KVEMY"
      },
      "execution_count": null,
      "outputs": []
    },
    {
      "cell_type": "code",
      "source": [
        "def fits_quicklook(data, fnx=10, fny=10):\n",
        "  f = plt.figure(figsize=(fnx,fny))\n",
        "  pdata_tmp, vpmin, vpmax = rescale_image(data)\n",
        "  plt.imshow(pdata_tmp, vmin = vpmin, vmax = vpmax)"
      ],
      "metadata": {
        "id": "hwqM8MI4ViA0"
      },
      "execution_count": null,
      "outputs": []
    },
    {
      "cell_type": "code",
      "source": [
        "data_105_res, d105min, d105max = rescale_image(data)\n",
        "data_125_res, d125min, d125max = rescale_image(data)\n",
        "data_160_res, d160min, d160max = rescale_image(data)"
      ],
      "metadata": {
        "id": "c405pmITWV7v"
      },
      "execution_count": null,
      "outputs": []
    },
    {
      "cell_type": "code",
      "source": [
        "data_105_res[data_105_res<d105min] = d105min\n",
        "data_105_res[data_105_res>d105max] = d105max\n",
        "data_125_res[data_125_res<d125min] = d125min\n",
        "data_125_res[data_125_res>d125max] = d125max\n",
        "data_160_res[data_160_res<d160min] = d160min\n",
        "data_160_res[data_160_res>d160max] = d160max"
      ],
      "metadata": {
        "id": "MkrodRulWqDA"
      },
      "execution_count": null,
      "outputs": []
    },
    {
      "cell_type": "code",
      "source": [
        "rgb = np.zeros((data_105_res.shape[0], data_105_res.shape[1], 3))\n",
        "rgb[:,:,0] = (data_105_res-d105min) / (d105max-d105min)\n",
        "rgb[:,:,1] = (data_125_res-d125min) / (d125max-d125min)\n",
        "rgb[:,:,2] = (data_160_res-d160min) / (d160max-d160min)"
      ],
      "metadata": {
        "id": "LMEHYNDoW7Lk"
      },
      "execution_count": null,
      "outputs": []
    },
    {
      "cell_type": "code",
      "source": [
        "f, ax = plt.subplots(1,1,figsize=(20,20))\n",
        "ax.axis('off')\n",
        "ax.imshow(rgb)\n",
        "plt.savefig(\"3-color-false.png\", bbox_inches='tight',pad_inches=0, dpi=600)"
      ],
      "metadata": {
        "id": "kLOSkriCSuha"
      },
      "execution_count": null,
      "outputs": []
    }
  ]
}