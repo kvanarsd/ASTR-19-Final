{
  "nbformat": 4,
  "nbformat_minor": 0,
  "metadata": {
    "colab": {
      "provenance": [],
      "include_colab_link": true
    },
    "kernelspec": {
      "name": "python3",
      "display_name": "Python 3"
    },
    "language_info": {
      "name": "python"
    }
  },
  "cells": [
    {
      "cell_type": "markdown",
      "metadata": {
        "id": "view-in-github",
        "colab_type": "text"
      },
      "source": [
        "<a href=\"https://colab.research.google.com/github/kvanarsd/ASTR-19-Final/blob/main/Final_Project_Tutorial.ipynb\" target=\"_parent\"><img src=\"https://colab.research.google.com/assets/colab-badge.svg\" alt=\"Open In Colab\"/></a>"
      ]
    },
    {
      "cell_type": "code",
      "execution_count": null,
      "metadata": {
        "id": "R4Ab_Qi0mDZA"
      },
      "outputs": [],
      "source": [
        "! pip install sep"
      ]
    },
    {
      "cell_type": "code",
      "source": [
        "from google.colab import drive\n",
        "drive.mount('/content/drive')"
      ],
      "metadata": {
        "id": "LFdwHq2qpw7J"
      },
      "execution_count": null,
      "outputs": []
    },
    {
      "cell_type": "code",
      "source": [
        "import numpy as np\n",
        "import sep"
      ],
      "metadata": {
        "id": "RiYjC0A4m9So"
      },
      "execution_count": null,
      "outputs": []
    },
    {
      "cell_type": "code",
      "source": [
        "from astropy.io import fits\n",
        "import matplotlib.pyplot as plt\n",
        "from matplotlib import rcParams\n",
        "\n",
        "%matplotlib inline\n",
        "\n",
        "rcParams['figure.figsize'] = [10., 8.]"
      ],
      "metadata": {
        "id": "iRccH9LnnCNv"
      },
      "execution_count": null,
      "outputs": []
    },
    {
      "cell_type": "code",
      "source": [
        "# read image into standard 2-d numpy array\n",
        "path = \"/content/drive/MyDrive/ASTR19 Final/image.fits\"\n",
        "# open file\n",
        "image = fits.open(path)\n",
        "# turn image into data array\n",
        "data = image[0].data"
      ],
      "metadata": {
        "id": "j46KSMAin4PQ"
      },
      "execution_count": null,
      "outputs": []
    },
    {
      "cell_type": "code",
      "source": [
        "# show the image\n",
        "m, s = np.mean(data), np.std(data)\n",
        "plt.imshow(data, interpolation='nearest', cmap='gray', vmin=m-s, vmax=m+s, origin='lower')\n",
        "plt.colorbar();\n",
        "plt.savefig(\"Img.png\")"
      ],
      "metadata": {
        "id": "gCpj8VM6qrjU"
      },
      "execution_count": null,
      "outputs": []
    },
    {
      "cell_type": "code",
      "source": [
        "# measure a spatially varying background on the image\n",
        "# background subtraction\n",
        "bkg = sep.Background(data)"
      ],
      "metadata": {
        "id": "YNZy6IDjrGI3"
      },
      "execution_count": null,
      "outputs": []
    },
    {
      "cell_type": "code",
      "source": [
        "# get a \"global\" mean and noise of the image background:\n",
        "print(bkg.globalback)\n",
        "print(bkg.globalrms)"
      ],
      "metadata": {
        "id": "x5K7XmWcrTfw"
      },
      "execution_count": null,
      "outputs": []
    },
    {
      "cell_type": "code",
      "source": [
        "# evaluate background as 2-d array, same size as original image\n",
        "bkg_image = bkg.back()"
      ],
      "metadata": {
        "id": "dG7YTkSZrbYq"
      },
      "execution_count": null,
      "outputs": []
    },
    {
      "cell_type": "code",
      "source": [
        "# show the background\n",
        "plt.imshow(bkg_image, interpolation='nearest', cmap='gray', origin='lower')\n",
        "plt.colorbar();\n",
        "plt.savefig(\"Background.png\")"
      ],
      "metadata": {
        "id": "pjuyvJqXrddU"
      },
      "execution_count": null,
      "outputs": []
    },
    {
      "cell_type": "code",
      "source": [
        "# evaluate the background noise as 2-d array, same size as original image\n",
        "bkg_rms = bkg.rms()"
      ],
      "metadata": {
        "id": "ZpXSwynDro2W"
      },
      "execution_count": null,
      "outputs": []
    },
    {
      "cell_type": "code",
      "source": [
        "# show the background noise\n",
        "plt.imshow(bkg_rms, interpolation='nearest', cmap='gray', origin='lower')\n",
        "plt.colorbar();\n",
        "plt.savefig(\"BackgroundNoise.png\")"
      ],
      "metadata": {
        "id": "7Up-bry_rqwl"
      },
      "execution_count": null,
      "outputs": []
    },
    {
      "cell_type": "code",
      "source": [
        "# subtract the background\n",
        "data_sub = data - bkg\n"
      ],
      "metadata": {
        "id": "zdFMRoqCrvCl"
      },
      "execution_count": null,
      "outputs": []
    },
    {
      "cell_type": "code",
      "source": [
        "# detect objects\n",
        "objects = sep.extract(data_sub, 1.5, err=bkg.globalrms)"
      ],
      "metadata": {
        "id": "s0EX3sQZr06e"
      },
      "execution_count": null,
      "outputs": []
    },
    {
      "cell_type": "code",
      "source": [
        "# how many objects were detected\n",
        "len(objects)"
      ],
      "metadata": {
        "id": "snfs_3Xtr0-Q"
      },
      "execution_count": null,
      "outputs": []
    },
    {
      "cell_type": "code",
      "source": [
        "# plotting all the objects found\n",
        "from matplotlib.patches import Ellipse\n",
        "\n",
        "# plot background-subtracted image\n",
        "fig, ax = plt.subplots()\n",
        "m, s = np.mean(data_sub), np.std(data_sub)\n",
        "im = ax.imshow(data_sub, interpolation='nearest', cmap='gray',\n",
        "               vmin=m-s, vmax=m+s, origin='lower')\n",
        "\n",
        "# plot an ellipse for each object\n",
        "for i in range(len(objects)):\n",
        "    e = Ellipse(xy=(objects['x'][i], objects['y'][i]),\n",
        "                width=6*objects['a'][i],\n",
        "                height=6*objects['b'][i],\n",
        "                angle=objects['theta'][i] * 180. / np.pi)\n",
        "    e.set_facecolor('none')\n",
        "    e.set_edgecolor('red')\n",
        "    ax.add_artist(e)\n",
        "\n",
        "plt.savefig(\"CircledData.png\")"
      ],
      "metadata": {
        "id": "CglHAn2LsIGA"
      },
      "execution_count": null,
      "outputs": []
    },
    {
      "cell_type": "code",
      "source": [
        "# available fields\n",
        "objects.dtype.names"
      ],
      "metadata": {
        "id": "7Zg00fajtDlS"
      },
      "execution_count": null,
      "outputs": []
    },
    {
      "cell_type": "code",
      "source": [
        "# perform circular aperture photometry with 3 px radius\n",
        "# how bright a source is\n",
        "flux, fluxerr, flag = sep.sum_circle(data_sub, objects['x'], objects['y'],\n",
        "                                     3.0, err=bkg.globalrms, gain=1.0)"
      ],
      "metadata": {
        "id": "HNZJMX4WsrKR"
      },
      "execution_count": null,
      "outputs": []
    },
    {
      "cell_type": "code",
      "source": [
        "# show the first 10 objects results:\n",
        "for i in range(10):\n",
        "    print(\"object {:d}: flux = {:f} +/- {:f}\".format(i, flux[i], fluxerr[i]))"
      ],
      "metadata": {
        "id": "2lo8-3SNs-vh"
      },
      "execution_count": null,
      "outputs": []
    }
  ]
}